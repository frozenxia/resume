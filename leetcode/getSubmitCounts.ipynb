{
 "cells": [
  {
   "cell_type": "code",
   "execution_count": 1,
   "metadata": {},
   "outputs": [],
   "source": [
    "import requests\n",
    "import time\n",
    "from datetime import datetime,timedelta\n",
    "import pandas as pd\n",
    "from pandasql import sqldf\n",
    "import  matplotlib.pyplot as plt\n",
    "import json"
   ]
  },
  {
   "cell_type": "code",
   "execution_count": 2,
   "metadata": {},
   "outputs": [],
   "source": [
    "pysql = lambda q : sqldf(q,globals())\n"
   ]
  },
  {
   "cell_type": "code",
   "execution_count": 3,
   "metadata": {},
   "outputs": [],
   "source": [
    "# auth = Auth('prepareforairbnb@163.com','ppnn13%leetcode')\n"
   ]
  },
  {
   "cell_type": "code",
   "execution_count": null,
   "metadata": {},
   "outputs": [],
   "source": []
  },
  {
   "cell_type": "code",
   "execution_count": 4,
   "metadata": {},
   "outputs": [],
   "source": [
    "cookies='__cfduid=d4a84072b0fd06851ded774c1c925c66b1578385941; csrftoken=bYKw8PDpn3aMfst3z9GPiBXrmg1UrXUyTHN18YyefyDl8EPdFU3qz6cI3lKIj4IS; _ga=GA1.2.447319520.1578385944; _gid=GA1.2.417061552.1578385944; c_a_u=\"cHJlcGFyZWZvcmFpcmJuYg==:1ip3mE:1CkdEbbTV0PNxa3yZ3BB0qM1pJU\"; LEETCODE_SESSION=eyJ0eXAiOiJKV1QiLCJhbGciOiJIUzI1NiJ9.eyJfYXV0aF91c2VyX2lkIjoiMTc1ODU0NyIsIl9hdXRoX3VzZXJfYmFja2VuZCI6ImFsbGF1dGguYWNjb3VudC5hdXRoX2JhY2tlbmRzLkF1dGhlbnRpY2F0aW9uQmFja2VuZCIsIl9hdXRoX3VzZXJfaGFzaCI6Ijk0YjdlZGUwNDlhN2ExZjE1ODZlNDJkOWQ1NjgzYjk0ZDViODMxYWQiLCJpZCI6MTc1ODU0NywiZW1haWwiOiJwcmVwYXJlZm9yYWlyYm5iQDE2My5jb20iLCJ1c2VybmFtZSI6InByZXBhcmVmb3JhaXJibmIiLCJ1c2VyX3NsdWciOiJwcmVwYXJlZm9yYWlyYm5iIiwiYXZhdGFyIjoiaHR0cHM6Ly9hc3NldHMubGVldGNvZGUuY29tL3VzZXJzL3ByZXBhcmVmb3JhaXJibmIvYXZhdGFyXzE1NzQ3NTc4NjAucG5nIiwidGltZXN0YW1wIjoiMjAyMC0wMS0wNyAxNDoxOToxNy44NjI1NzkrMDA6MDAiLCJJUCI6IjEwNi4zNy4xODcuMTMzIiwiSURFTlRJVFkiOiI3ODhlNTVmM2E0NWQyZTI2NWYxZjdjODFkYTE1YzkzMSIsIl9zZXNzaW9uX2V4cGlyeSI6MTIwOTYwMH0._5XQ7uuRWEiUVUlidyGJsSuObz4CrS5UyU_pjs63C9g; __atuvc=1%7C2; _gat=1'\n",
    "headers = {\n",
    "    'Accept': 'text/html,application/xhtml+xml,application/xml;q=0.9,image/webp,*/*;q=0.8',\n",
    "    'Accept-Encoding': 'gzip, deflate',\n",
    "    'Accept-Language': 'en-US,en;q=0.9,zh-CN;q=0.8,zh;q=0.7,zh-TW;q=0.6',\n",
    "    'Host': 'leetcode.com',\n",
    "    'User-Agent': 'Mozilla/5.0 (Linux; Android 6.0; Nexus 5 Build/MRA58N) AppleWebKit/537.36 (KHTML, like Gecko) Chrome/58.0.3029.110 Mobile Safari/537.36',\n",
    "    'Referer': 'https://leetcode.com/accounts/login/',\n",
    "    'Cookie':cookies\n",
    "}\n",
    "url = 'https://leetcode.com/api/submissions/?offset={}&limit=20'\n"
   ]
  },
  {
   "cell_type": "code",
   "execution_count": 5,
   "metadata": {},
   "outputs": [],
   "source": [
    "cookies2 = '__asc=299bce4516f75a0124a6e31c382; __auc=299bce4516f75a0124a6e31c382; Hm_lvt_fa218a3ff7179639febdb15e372f411c=1578226423; gr_user_id=d58dd89c-b8d4-473f-a10d-64f677b1f799; a2873925c34ecbd2_gr_session_id=799fa5a9-ea3d-44f4-b367-70863fe78e01; _ga=GA1.2.1409587679.1578226423; _gid=GA1.2.1532947133.1578226423; grwng_uid=77c905df-5522-4b0e-ae7f-e6e646c8e5d3; a2873925c34ecbd2_gr_session_id_799fa5a9-ea3d-44f4-b367-70863fe78e01=true; csrftoken=SxaOBoyIH5mpfcpnQAqNkaoroREIYaX5vUP1KdWubrtHja9f4T0FlVGAVnL8Wexq; LEETCODE_SESSION=eyJ0eXAiOiJKV1QiLCJhbGciOiJIUzI1NiJ9.eyJfYXV0aF91c2VyX2lkIjoiMTA1MjUzOCIsIl9hdXRoX3VzZXJfYmFja2VuZCI6ImFsbGF1dGguYWNjb3VudC5hdXRoX2JhY2tlbmRzLkF1dGhlbnRpY2F0aW9uQmFja2VuZCIsIl9hdXRoX3VzZXJfaGFzaCI6ImY1NWI3ZWU2OWZlNjZmMDY1YTU3N2YwZTQxYzE0ZDA2ZjA4ZTFmMTEiLCJpZCI6MTA1MjUzOCwiZW1haWwiOiJ0aW55bWluZHlAaG90bWFpbC5jb20iLCJ1c2VybmFtZSI6InliaW5ndW8iLCJ1c2VyX3NsdWciOiJ5YmluZ3VvIiwiYXZhdGFyIjoiaHR0cHM6Ly9hc3NldHMubGVldGNvZGUtY24uY29tL2FsaXl1bi1sYy11cGxvYWQvZGVmYXVsdF9hdmF0YXIucG5nIiwicGhvbmVfdmVyaWZpZWQiOmZhbHNlLCJ0aW1lc3RhbXAiOiIyMDIwLTAxLTA1IDEyOjEzOjU0LjY0MDkzNyswMDowMCIsIlJFTU9URV9BRERSIjoiMTcyLjIxLjcuMjQ3IiwiSURFTlRJVFkiOiI1NGNlODljYTcyMzc0ODdmMGI4YzM1ODZkMmJmNzdkZSIsIl9zZXNzaW9uX2V4cGlyeSI6MTIwOTYwMH0._v8pcLA7mwbcqz_L_g2YHzyS095LqnY9Bhv6QuLHgNs; Hm_lpvt_fa218a3ff7179639febdb15e372f411c=1578226435; a2873925c34ecbd2_gr_last_sent_sid_with_cs1=799fa5a9-ea3d-44f4-b367-70863fe78e01; a2873925c34ecbd2_gr_last_sent_cs1=ybinguo; a2873925c34ecbd2_gr_cs1=ybinguo'\n",
    "headers2 = {\n",
    "    'Accept': 'text/html,application/xhtml+xml,application/xml;q=0.9,image/webp,*/*;q=0.8',\n",
    "    'Accept-Encoding': 'gzip, deflate',\n",
    "    'Accept-Language': 'en-US,en;q=0.9,zh-CN;q=0.8,zh;q=0.7,zh-TW;q=0.6',\n",
    "    'Host': 'leetcode-cn.com',\n",
    "    'User-Agent': 'Mozilla/5.0 (Linux; Android 6.0; Nexus 5 Build/MRA58N) AppleWebKit/537.36 (KHTML, like Gecko) Chrome/58.0.3029.110 Mobile Safari/537.36',\n",
    "    'Referer': 'https://leetcode-cn.com/accounts/login/',\n",
    "    'Cookie':cookies2\n",
    "}\n",
    "url2 = 'https://leetcode-cn.com/api/submissions/?offset={}&limit=20'"
   ]
  },
  {
   "cell_type": "code",
   "execution_count": 6,
   "metadata": {},
   "outputs": [],
   "source": [
    "def getPages(url,headers):\n",
    "    items = []\n",
    "    page = 0\n",
    "    while True:\n",
    "        r = requests.get(url.format(page),headers=headers)\n",
    "        print(url.format(page),r.status_code)\n",
    "        if r.status_code != 200:\n",
    "            time.sleep(5)\n",
    "            continue\n",
    "        js = json.loads(r.text)\n",
    "        items.extend(js['submissions_dump'])\n",
    "        page = page +20\n",
    "        if not js['has_next']:\n",
    "            break\n",
    "        time.sleep(1)\n",
    "    return items"
   ]
  },
  {
   "cell_type": "code",
   "execution_count": 7,
   "metadata": {
    "scrolled": false
   },
   "outputs": [
    {
     "name": "stdout",
     "output_type": "stream",
     "text": [
      "https://leetcode.com/api/submissions/?offset=0&limit=20 200\n",
      "https://leetcode.com/api/submissions/?offset=20&limit=20 200\n",
      "https://leetcode.com/api/submissions/?offset=40&limit=20 200\n",
      "https://leetcode.com/api/submissions/?offset=60&limit=20 200\n",
      "https://leetcode.com/api/submissions/?offset=80&limit=20 200\n",
      "https://leetcode.com/api/submissions/?offset=100&limit=20 200\n",
      "https://leetcode.com/api/submissions/?offset=120&limit=20 200\n",
      "https://leetcode.com/api/submissions/?offset=140&limit=20 200\n",
      "https://leetcode.com/api/submissions/?offset=160&limit=20 200\n",
      "https://leetcode.com/api/submissions/?offset=180&limit=20 200\n",
      "https://leetcode.com/api/submissions/?offset=200&limit=20 200\n",
      "https://leetcode.com/api/submissions/?offset=220&limit=20 200\n",
      "https://leetcode.com/api/submissions/?offset=240&limit=20 200\n",
      "https://leetcode.com/api/submissions/?offset=260&limit=20 200\n",
      "https://leetcode.com/api/submissions/?offset=280&limit=20 200\n",
      "https://leetcode.com/api/submissions/?offset=300&limit=20 200\n",
      "https://leetcode.com/api/submissions/?offset=320&limit=20 200\n",
      "https://leetcode.com/api/submissions/?offset=340&limit=20 200\n",
      "https://leetcode.com/api/submissions/?offset=360&limit=20 200\n",
      "https://leetcode.com/api/submissions/?offset=380&limit=20 200\n",
      "https://leetcode.com/api/submissions/?offset=400&limit=20 200\n",
      "https://leetcode.com/api/submissions/?offset=420&limit=20 200\n",
      "https://leetcode.com/api/submissions/?offset=440&limit=20 200\n",
      "https://leetcode.com/api/submissions/?offset=460&limit=20 200\n",
      "https://leetcode.com/api/submissions/?offset=480&limit=20 200\n",
      "https://leetcode.com/api/submissions/?offset=500&limit=20 200\n",
      "https://leetcode.com/api/submissions/?offset=520&limit=20 200\n",
      "https://leetcode.com/api/submissions/?offset=540&limit=20 200\n",
      "https://leetcode.com/api/submissions/?offset=560&limit=20 200\n",
      "https://leetcode.com/api/submissions/?offset=580&limit=20 200\n",
      "https://leetcode.com/api/submissions/?offset=600&limit=20 200\n",
      "https://leetcode.com/api/submissions/?offset=620&limit=20 200\n",
      "https://leetcode.com/api/submissions/?offset=640&limit=20 200\n",
      "https://leetcode.com/api/submissions/?offset=660&limit=20 200\n",
      "https://leetcode.com/api/submissions/?offset=680&limit=20 200\n",
      "https://leetcode.com/api/submissions/?offset=700&limit=20 403\n",
      "https://leetcode.com/api/submissions/?offset=700&limit=20 200\n",
      "https://leetcode.com/api/submissions/?offset=720&limit=20 200\n",
      "https://leetcode.com/api/submissions/?offset=740&limit=20 200\n",
      "https://leetcode.com/api/submissions/?offset=760&limit=20 200\n",
      "https://leetcode.com/api/submissions/?offset=780&limit=20 200\n",
      "https://leetcode.com/api/submissions/?offset=800&limit=20 200\n"
     ]
    }
   ],
   "source": [
    "items = getPages(url,headers)"
   ]
  },
  {
   "cell_type": "code",
   "execution_count": 8,
   "metadata": {},
   "outputs": [],
   "source": [
    "with open('submissions.txt','w') as fout:\n",
    "    fout.write(json.dumps(items))"
   ]
  },
  {
   "cell_type": "code",
   "execution_count": 9,
   "metadata": {
    "scrolled": false
   },
   "outputs": [
    {
     "name": "stderr",
     "output_type": "stream",
     "text": [
      "/home/mi/anaconda3/lib/python3.7/site-packages/pandas/plotting/_matplotlib/converter.py:103: FutureWarning: Using an implicitly registered datetime converter for a matplotlib plotting method. The converter was registered by pandas on import. Future versions of pandas will require you to explicitly register matplotlib converters.\n",
      "\n",
      "To register the converters:\n",
      "\t>>> from pandas.plotting import register_matplotlib_converters\n",
      "\t>>> register_matplotlib_converters()\n",
      "  warnings.warn(msg, FutureWarning)\n"
     ]
    },
    {
     "data": {
      "image/png": "[encoded data removed]",
      "text/plain": [
       "<Figure size 1296x432 with 1 Axes>"
      ]
     },
     "metadata": {
      "needs_background": "light"
     },
     "output_type": "display_data"
    },
    {
     "data": {
      "image/png": "[encoded data removed]",
      "text/plain": [
       "<Figure size 1296x432 with 1 Axes>"
      ]
     },
     "metadata": {
      "needs_background": "light"
     },
     "output_type": "display_data"
    }
   ],
   "source": [
    "# def plotItems(items):\n",
    "dt = pd.DataFrame(items)\n",
    "# dt = dt2.head(100\n",
    "dt = dt.loc[dt['status_display'] == 'Accepted',]\n",
    "# print(dt.head(2))\n",
    "\n",
    "dt['date'] = dt['timestamp'].apply(lambda x : datetime.utcfromtimestamp(x).strftime('%Y-%m-%d'))\n",
    "min_date = datetime.utcfromtimestamp(dt['timestamp'].min())\n",
    "max_date = datetime.utcfromtimestamp(dt['timestamp'].max())+timedelta(days=1)\n",
    "times = []\n",
    "while min_date <= max_date:\n",
    "    times.append(min_date.strftime('%Y-%m-%d'))\n",
    "    min_date = min_date + timedelta(days=1)\n",
    "dtime = pd.DataFrame({'date':times})\n",
    "# print(dtime.head(2))\n",
    "#     dtime.head(2)\n",
    "dt.drop_duplicates('title',inplace=True)\n",
    "#     pysql1 = lambda q : sqldf(q,locals())\n",
    "# pysql('select * from dt limit 1')\n",
    "dt1 = pysql('''select A.date as date,nums from \n",
    "            dtime as A left join\n",
    "            (select date,count(*) as nums from dt group by date order by date asc) AS B\n",
    "            on A.date = B.date\n",
    "            ''')\n",
    "\n",
    "dt1.fillna(0,inplace=True)\n",
    "dt1['label'] = dt1['date'].apply(lambda x: datetime.strptime(x,'%Y-%m-%d'))\n",
    "dt1 = dt1.loc[dt1.label >= datetime.strptime('2020-01-01','%Y-%m-%d'),]\n",
    "plt.figure(figsize=(18, 6))\n",
    "dt1.nums.cumsum()\n",
    "plt.locator_params(nbins=10)\n",
    "plt.plot(dt1.label,dt1.nums.cumsum(),color=(1.0,0.2,0.3),label='_nolegend_')\n",
    "plt.title('Submissions')\n",
    "plt.show()\n",
    "plt.figure(figsize=(18, 6))\n",
    "# plt.locator_params(nbins=10)\n",
    "plt.bar(dt1.label,dt1.nums,color=(1.0,0.2,0.3))\n",
    "plt.xticks(rotation=45)\n",
    "plt.title('Submissions')\n",
    "plt.show()\n"
   ]
  },
  {
   "cell_type": "code",
   "execution_count": 10,
   "metadata": {
    "scrolled": false
   },
   "outputs": [
    {
     "data": {
      "text/html": [
       "<div>\n",
       "<style scoped>\n",
       "    .dataframe tbody tr th:only-of-type {\n",
       "        vertical-align: middle;\n",
       "    }\n",
       "\n",
       "    .dataframe tbody tr th {\n",
       "        vertical-align: top;\n",
       "    }\n",
       "\n",
       "    .dataframe thead th {\n",
       "        text-align: right;\n",
       "    }\n",
       "</style>\n",
       "<table border=\"1\" class=\"dataframe\">\n",
       "  <thead>\n",
       "    <tr style=\"text-align: right;\">\n",
       "      <th></th>\n",
       "      <th>date</th>\n",
       "      <th>nums</th>\n",
       "      <th>label</th>\n",
       "    </tr>\n",
       "  </thead>\n",
       "  <tbody>\n",
       "    <tr>\n",
       "      <td>306</td>\n",
       "      <td>2020-01-01</td>\n",
       "      <td>0.0</td>\n",
       "      <td>2020-01-01</td>\n",
       "    </tr>\n",
       "    <tr>\n",
       "      <td>307</td>\n",
       "      <td>2020-01-02</td>\n",
       "      <td>7.0</td>\n",
       "      <td>2020-01-02</td>\n",
       "    </tr>\n",
       "    <tr>\n",
       "      <td>308</td>\n",
       "      <td>2020-01-03</td>\n",
       "      <td>15.0</td>\n",
       "      <td>2020-01-03</td>\n",
       "    </tr>\n",
       "    <tr>\n",
       "      <td>309</td>\n",
       "      <td>2020-01-04</td>\n",
       "      <td>1.0</td>\n",
       "      <td>2020-01-04</td>\n",
       "    </tr>\n",
       "    <tr>\n",
       "      <td>310</td>\n",
       "      <td>2020-01-05</td>\n",
       "      <td>2.0</td>\n",
       "      <td>2020-01-05</td>\n",
       "    </tr>\n",
       "    <tr>\n",
       "      <td>311</td>\n",
       "      <td>2020-01-06</td>\n",
       "      <td>12.0</td>\n",
       "      <td>2020-01-06</td>\n",
       "    </tr>\n",
       "    <tr>\n",
       "      <td>312</td>\n",
       "      <td>2020-01-07</td>\n",
       "      <td>16.0</td>\n",
       "      <td>2020-01-07</td>\n",
       "    </tr>\n",
       "    <tr>\n",
       "      <td>313</td>\n",
       "      <td>2020-01-08</td>\n",
       "      <td>11.0</td>\n",
       "      <td>2020-01-08</td>\n",
       "    </tr>\n",
       "    <tr>\n",
       "      <td>314</td>\n",
       "      <td>2020-01-09</td>\n",
       "      <td>10.0</td>\n",
       "      <td>2020-01-09</td>\n",
       "    </tr>\n",
       "    <tr>\n",
       "      <td>315</td>\n",
       "      <td>2020-01-10</td>\n",
       "      <td>13.0</td>\n",
       "      <td>2020-01-10</td>\n",
       "    </tr>\n",
       "    <tr>\n",
       "      <td>316</td>\n",
       "      <td>2020-01-11</td>\n",
       "      <td>1.0</td>\n",
       "      <td>2020-01-11</td>\n",
       "    </tr>\n",
       "    <tr>\n",
       "      <td>317</td>\n",
       "      <td>2020-01-12</td>\n",
       "      <td>9.0</td>\n",
       "      <td>2020-01-12</td>\n",
       "    </tr>\n",
       "    <tr>\n",
       "      <td>318</td>\n",
       "      <td>2020-01-13</td>\n",
       "      <td>16.0</td>\n",
       "      <td>2020-01-13</td>\n",
       "    </tr>\n",
       "    <tr>\n",
       "      <td>319</td>\n",
       "      <td>2020-01-14</td>\n",
       "      <td>16.0</td>\n",
       "      <td>2020-01-14</td>\n",
       "    </tr>\n",
       "    <tr>\n",
       "      <td>320</td>\n",
       "      <td>2020-01-15</td>\n",
       "      <td>8.0</td>\n",
       "      <td>2020-01-15</td>\n",
       "    </tr>\n",
       "    <tr>\n",
       "      <td>321</td>\n",
       "      <td>2020-01-16</td>\n",
       "      <td>11.0</td>\n",
       "      <td>2020-01-16</td>\n",
       "    </tr>\n",
       "    <tr>\n",
       "      <td>322</td>\n",
       "      <td>2020-01-17</td>\n",
       "      <td>3.0</td>\n",
       "      <td>2020-01-17</td>\n",
       "    </tr>\n",
       "    <tr>\n",
       "      <td>323</td>\n",
       "      <td>2020-01-18</td>\n",
       "      <td>3.0</td>\n",
       "      <td>2020-01-18</td>\n",
       "    </tr>\n",
       "    <tr>\n",
       "      <td>324</td>\n",
       "      <td>2020-01-19</td>\n",
       "      <td>6.0</td>\n",
       "      <td>2020-01-19</td>\n",
       "    </tr>\n",
       "  </tbody>\n",
       "</table>\n",
       "</div>"
      ],
      "text/plain": [
       "           date  nums      label\n",
       "306  2020-01-01   0.0 2020-01-01\n",
       "307  2020-01-02   7.0 2020-01-02\n",
       "308  2020-01-03  15.0 2020-01-03\n",
       "309  2020-01-04   1.0 2020-01-04\n",
       "310  2020-01-05   2.0 2020-01-05\n",
       "311  2020-01-06  12.0 2020-01-06\n",
       "312  2020-01-07  16.0 2020-01-07\n",
       "313  2020-01-08  11.0 2020-01-08\n",
       "314  2020-01-09  10.0 2020-01-09\n",
       "315  2020-01-10  13.0 2020-01-10\n",
       "316  2020-01-11   1.0 2020-01-11\n",
       "317  2020-01-12   9.0 2020-01-12\n",
       "318  2020-01-13  16.0 2020-01-13\n",
       "319  2020-01-14  16.0 2020-01-14\n",
       "320  2020-01-15   8.0 2020-01-15\n",
       "321  2020-01-16  11.0 2020-01-16\n",
       "322  2020-01-17   3.0 2020-01-17\n",
       "323  2020-01-18   3.0 2020-01-18\n",
       "324  2020-01-19   6.0 2020-01-19"
      ]
     },
     "execution_count": 10,
     "metadata": {},
     "output_type": "execute_result"
    }
   ],
   "source": [
    "dt1"
   ]
  },
  {
   "cell_type": "code",
   "execution_count": 11,
   "metadata": {},
   "outputs": [
    {
     "data": {
      "text/plain": [
       "160.0"
      ]
     },
     "execution_count": 11,
     "metadata": {},
     "output_type": "execute_result"
    }
   ],
   "source": [
    "dt1.nums.sum()"
   ]
  },
  {
   "cell_type": "code",
   "execution_count": null,
   "metadata": {},
   "outputs": [],
   "source": []
  },
  {
   "cell_type": "code",
   "execution_count": null,
   "metadata": {},
   "outputs": [],
   "source": []
  },
  {
   "cell_type": "code",
   "execution_count": null,
   "metadata": {},
   "outputs": [],
   "source": []
  }
 ],
 "metadata": {
  "kernelspec": {
   "display_name": "Python 3",
   "language": "python",
   "name": "python3"
  },
  "language_info": {
   "codemirror_mode": {
    "name": "ipython",
    "version": 3
   },
   "file_extension": ".py",
   "mimetype": "text/x-python",
   "name": "python",
   "nbconvert_exporter": "python",
   "pygments_lexer": "ipython3",
   "version": "3.7.4"
  }
 },
 "nbformat": 4,
 "nbformat_minor": 2
}
