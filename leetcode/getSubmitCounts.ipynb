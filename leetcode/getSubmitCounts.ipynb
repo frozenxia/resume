{
 "cells": [
  {
   "cell_type": "code",
   "execution_count": 201,
   "metadata": {},
   "outputs": [],
   "source": [
    "import requests\n",
    "import time\n",
    "from datetime import datetime,timedelta\n",
    "import pandas as pd\n",
    "from pandasql import sqldf\n",
    "import  matplotlib.pyplot as plt"
   ]
  },
  {
   "cell_type": "code",
   "execution_count": 202,
   "metadata": {},
   "outputs": [],
   "source": [
    "pysql = lambda q : sqldf(q,globals())\n"
   ]
  },
  {
   "cell_type": "code",
   "execution_count": 203,
   "metadata": {},
   "outputs": [],
   "source": [
    "# auth = Auth('prepareforairbnb@163.com','ppnn13%leetcode')\n",
    "cookies='__cfduid=d55f842b1214ffbe3252b8d510ceee0cd1570705644; csrftoken=GdRqyCLHli8mv1ZhJF5d8DFBWaMeq9BbqJsqNbTCQ0Gttp3R9PEFfEqV7ArupZIj; _ga=GA1.2.1521596719.1570705650; __atuvc=9%7C49%2C0%7C50%2C11%7C51%2C6%7C52%2C13%7C1; __stripe_mid=c3e7443c-855c-4063-8858-c4d58a43b8b1; _gid=GA1.2.1389917660.1577941802; c_a_u=\"cHJlcGFyZWZvcmFpcmJuYg==:1inPkd:h2ipLeQio-LXipzykKKrJKUomtI\"; LEETCODE_SESSION=eyJ0eXAiOiJKV1QiLCJhbGciOiJIUzI1NiJ9.eyJfYXV0aF91c2VyX2lkIjoiMTc1ODU0NyIsIl9hdXRoX3VzZXJfYmFja2VuZCI6ImFsbGF1dGguYWNjb3VudC5hdXRoX2JhY2tlbmRzLkF1dGhlbnRpY2F0aW9uQmFja2VuZCIsIl9hdXRoX3VzZXJfaGFzaCI6Ijk0YjdlZGUwNDlhN2ExZjE1ODZlNDJkOWQ1NjgzYjk0ZDViODMxYWQiLCJpZCI6MTc1ODU0NywiZW1haWwiOiJwcmVwYXJlZm9yYWlyYm5iQDE2My5jb20iLCJ1c2VybmFtZSI6InByZXBhcmVmb3JhaXJibmIiLCJ1c2VyX3NsdWciOiJwcmVwYXJlZm9yYWlyYm5iIiwiYXZhdGFyIjoiaHR0cHM6Ly9hc3NldHMubGVldGNvZGUuY29tL3VzZXJzL3ByZXBhcmVmb3JhaXJibmIvYXZhdGFyXzE1NzQ3NTc4NjAucG5nIiwidGltZXN0YW1wIjoiMjAyMC0wMS0wMyAxNjo1OToxMS4zOTIyMjYrMDA6MDAiLCJJUCI6IjEzOS4xODAuMTk4LjIwIiwiSURFTlRJVFkiOiI3ODhlNTVmM2E0NWQyZTI2NWYxZjdjODFkYTE1YzkzMSIsIl9zZXNzaW9uX2V4cGlyeSI6MTIwOTYwMH0.Lc-21_PSppiQGl_TTVE5PWMhm4LIjbsYy9cJb1F54eE'"
   ]
  },
  {
   "cell_type": "code",
   "execution_count": 204,
   "metadata": {},
   "outputs": [],
   "source": [
    "headers = {\n",
    "    'Accept': 'text/html,application/xhtml+xml,application/xml;q=0.9,image/webp,*/*;q=0.8',\n",
    "    'Accept-Encoding': 'gzip, deflate',\n",
    "    'Accept-Language': 'en-US,en;q=0.9,zh-CN;q=0.8,zh;q=0.7,zh-TW;q=0.6',\n",
    "    'Host': 'leetcode.com',\n",
    "    'User-Agent': 'Mozilla/5.0 (Linux; Android 6.0; Nexus 5 Build/MRA58N) AppleWebKit/537.36 (KHTML, like Gecko) Chrome/58.0.3029.110 Mobile Safari/537.36',\n",
    "    'Referer': 'https://leetcode.com/accounts/login/',\n",
    "    'Cookie':cookies\n",
    "}\n",
    "url = 'https://leetcode.com/api/submissions/?offset={}&limit=20'"
   ]
  },
  {
   "cell_type": "code",
   "execution_count": 82,
   "metadata": {},
   "outputs": [
    {
     "name": "stdout",
     "output_type": "stream",
     "text": [
      "https://leetcode.com/api/submissions/?offset=0&limit=20 200\n",
      "https://leetcode.com/api/submissions/?offset=20&limit=20 200\n",
      "https://leetcode.com/api/submissions/?offset=40&limit=20 200\n",
      "https://leetcode.com/api/submissions/?offset=60&limit=20 200\n",
      "https://leetcode.com/api/submissions/?offset=80&limit=20 200\n",
      "https://leetcode.com/api/submissions/?offset=100&limit=20 200\n",
      "https://leetcode.com/api/submissions/?offset=120&limit=20 200\n",
      "https://leetcode.com/api/submissions/?offset=140&limit=20 200\n",
      "https://leetcode.com/api/submissions/?offset=160&limit=20 200\n",
      "https://leetcode.com/api/submissions/?offset=180&limit=20 200\n",
      "https://leetcode.com/api/submissions/?offset=200&limit=20 200\n",
      "https://leetcode.com/api/submissions/?offset=220&limit=20 200\n",
      "https://leetcode.com/api/submissions/?offset=240&limit=20 200\n",
      "https://leetcode.com/api/submissions/?offset=260&limit=20 200\n",
      "https://leetcode.com/api/submissions/?offset=280&limit=20 200\n",
      "https://leetcode.com/api/submissions/?offset=300&limit=20 200\n",
      "https://leetcode.com/api/submissions/?offset=320&limit=20 200\n",
      "https://leetcode.com/api/submissions/?offset=340&limit=20 200\n",
      "https://leetcode.com/api/submissions/?offset=360&limit=20 200\n",
      "https://leetcode.com/api/submissions/?offset=380&limit=20 200\n",
      "https://leetcode.com/api/submissions/?offset=400&limit=20 200\n",
      "https://leetcode.com/api/submissions/?offset=420&limit=20 200\n",
      "https://leetcode.com/api/submissions/?offset=440&limit=20 200\n",
      "https://leetcode.com/api/submissions/?offset=460&limit=20 200\n",
      "https://leetcode.com/api/submissions/?offset=480&limit=20 200\n",
      "https://leetcode.com/api/submissions/?offset=500&limit=20 200\n",
      "https://leetcode.com/api/submissions/?offset=520&limit=20 200\n",
      "https://leetcode.com/api/submissions/?offset=540&limit=20 200\n",
      "https://leetcode.com/api/submissions/?offset=560&limit=20 200\n",
      "https://leetcode.com/api/submissions/?offset=580&limit=20 200\n"
     ]
    }
   ],
   "source": [
    "items = []\n",
    "page = 0\n",
    "while True:\n",
    "    r = requests.get(url.format(page),headers=headers)\n",
    "    print(url.format(page),r.status_code)\n",
    "    if r.status_code != 200:\n",
    "        time.sleep(5)\n",
    "        continue\n",
    "    js = json.loads(r.text)\n",
    "    items.extend(js['submissions_dump'])\n",
    "    page = page +20\n",
    "    if not js['has_next']:\n",
    "        break\n",
    "    time.sleep(1)"
   ]
  },
  {
   "cell_type": "code",
   "execution_count": 83,
   "metadata": {},
   "outputs": [],
   "source": [
    "with open('submissions.txt','w') as fout:\n",
    "    fout.write(json.dumps(items))"
   ]
  },
  {
   "cell_type": "code",
   "execution_count": 198,
   "metadata": {},
   "outputs": [],
   "source": [
    "def plotItems(its):\n",
    "    dt = pd.DataFrame(items)\n",
    "    dt = dt.loc[dt['status_display'] == 'Accepted',]\n",
    "    dt['date'] = dt['timestamp'].apply(lambda x : datetime.utcfromtimestamp(x).strftime('%Y-%m-%d'))\n",
    "    min_date = datetime.utcfromtimestamp(dt['timestamp'].min())\n",
    "    max_date = datetime.utcfromtimestamp(dt['timestamp'].max())\n",
    "    times = []\n",
    "    while min_date < max_date:\n",
    "        times.append(min_date.strftime('%Y-%m-%d'))\n",
    "        min_date = min_date + timedelta(days=1)\n",
    "    dtime = pd.DataFrame({'date':times})\n",
    "#     dtime.head(2)\n",
    "    dt.drop_duplicates('title',inplace=True)\n",
    "    dt1 = pysql('''select A.date as date,nums from \n",
    "                dtime as A left join\n",
    "                (select date,count(*) as nums from dt group by date order by date asc) B\n",
    "                on A.date = B.date\n",
    "                ''')\n",
    "    dt1.fillna(0,inplace=True)\n",
    "    dt1['label'] = dt1['date'].apply(lambda x: datetime.strptime(x,'%Y-%m-%d'))\n",
    "    plt.figure(figsize=(18, 6))\n",
    "    dt1.nums.cumsum()\n",
    "    plt.locator_params(nbins=10)\n",
    "    plt.plot(dt1.label,dt1.nums.cumsum(),color=(1.0,0.2,0.3),label='_nolegend_')\n",
    "    plt.title('Submissions')\n",
    "    plt.show()"
   ]
  },
  {
   "cell_type": "code",
   "execution_count": 199,
   "metadata": {},
   "outputs": [
    {
     "data": {
      "image/png": "[encoded data removed]",
      "text/plain": [
       "<Figure size 1296x432 with 1 Axes>"
      ]
     },
     "metadata": {
      "needs_background": "light"
     },
     "output_type": "display_data"
    }
   ],
   "source": [
    "plotItems(items)"
   ]
  },
  {
   "cell_type": "code",
   "execution_count": 89,
   "metadata": {},
   "outputs": [],
   "source": []
  }
 ],
 "metadata": {
  "kernelspec": {
   "display_name": "Python 3",
   "language": "python",
   "name": "python3"
  },
  "language_info": {
   "codemirror_mode": {
    "name": "ipython",
    "version": 3
   },
   "file_extension": ".py",
   "mimetype": "text/x-python",
   "name": "python",
   "nbconvert_exporter": "python",
   "pygments_lexer": "ipython3",
   "version": "3.7.3"
  }
 },
 "nbformat": 4,
 "nbformat_minor": 2
}
