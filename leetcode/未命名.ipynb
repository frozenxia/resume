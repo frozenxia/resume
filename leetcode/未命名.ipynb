{
 "cells": [
  {
   "cell_type": "code",
   "execution_count": 10,
   "metadata": {},
   "outputs": [],
   "source": [
    "ss = '''\n",
    "10459 \tODW140012A5 \t2020-01-17 \tCashless \t2,000 \t0.34 \t13.20 \t成功\n",
    "10459 \tODW140012A4 \t2020-01-17 \tCashless \t2,000 \t0.34 \t12.90 \t成功\n",
    "10459 \tODW140012A3 \t2020-01-17 \tCashless \t2,000 \t0.34 \t12.60 \t成功\n",
    "10459 \tODW14000C3E \t2020-01-09 \tCashless \t3,000 \t2.65 \t11.40 \t成功\n",
    "10459 \tODW140001BF \t2020-01-16 \tCashless \t2,000 \t2.65 \t12.30 \t成功\n",
    "10459 \tODW140001BE \t2020-01-14 \tCashless \t2,000 \t2.65 \t12.00 \t成功\n",
    "10459 \tODW140001BD \t2020-01-13 \tCashless \t1,000 \t2.64 \t11.80 \t成功\n",
    "10459 \tODW140001BC \t2020-01-09 \tCashless \t1,000 \t2.65 \t11.50 \t成功\n",
    "10459 \tODW13029C7B \t2019-12-17 \tCashless \t3,000 \t2.65 \t10.80 \t成功\n",
    "10459 \tODW1302918D \t2019-12-10 \tCashless \t6,000 \t2.67 \t9.26 \t成功\n",
    "10459 \tODW13028E17 \t2019-12-11 \tCashless \t6,000 \t2.67 \t9.48 \t成功\n",
    "'''"
   ]
  },
  {
   "cell_type": "code",
   "execution_count": 11,
   "metadata": {},
   "outputs": [],
   "source": [
    "y = [x.split('\\t') for x in ss.strip().split('\\n')]"
   ]
  },
  {
   "cell_type": "code",
   "execution_count": 12,
   "metadata": {},
   "outputs": [],
   "source": [
    "s = [float(x[4].replace(',',''))*(float(x[6])-float(x[5])) for x in y]"
   ]
  },
  {
   "cell_type": "code",
   "execution_count": 13,
   "metadata": {},
   "outputs": [
    {
     "data": {
      "text/plain": [
       "[25720.0,\n",
       " 25120.0,\n",
       " 24520.0,\n",
       " 26250.0,\n",
       " 19300.0,\n",
       " 18700.0,\n",
       " 9160.0,\n",
       " 8850.0,\n",
       " 24450.0,\n",
       " 39540.0,\n",
       " 40860.0]"
      ]
     },
     "execution_count": 13,
     "metadata": {},
     "output_type": "execute_result"
    }
   ],
   "source": [
    "s"
   ]
  },
  {
   "cell_type": "code",
   "execution_count": 14,
   "metadata": {},
   "outputs": [
    {
     "data": {
      "text/plain": [
       "262470.0"
      ]
     },
     "execution_count": 14,
     "metadata": {},
     "output_type": "execute_result"
    }
   ],
   "source": [
    "sum(s)"
   ]
  },
  {
   "cell_type": "code",
   "execution_count": null,
   "metadata": {},
   "outputs": [],
   "source": []
  }
 ],
 "metadata": {
  "kernelspec": {
   "display_name": "Python 3",
   "language": "python",
   "name": "python3"
  },
  "language_info": {
   "codemirror_mode": {
    "name": "ipython",
    "version": 3
   },
   "file_extension": ".py",
   "mimetype": "text/x-python",
   "name": "python",
   "nbconvert_exporter": "python",
   "pygments_lexer": "ipython3",
   "version": "3.7.4"
  }
 },
 "nbformat": 4,
 "nbformat_minor": 2
}
